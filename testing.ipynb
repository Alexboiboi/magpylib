{
 "metadata": {
  "language_info": {
   "codemirror_mode": {
    "name": "ipython",
    "version": 3
   },
   "file_extension": ".py",
   "mimetype": "text/x-python",
   "name": "python",
   "nbconvert_exporter": "python",
   "pygments_lexer": "ipython3",
   "version": "3.9.1-final"
  },
  "orig_nbformat": 2,
  "kernelspec": {
   "name": "python3",
   "display_name": "Python 3",
   "language": "python"
  }
 },
 "nbformat": 4,
 "nbformat_minor": 2,
 "cells": [
  {
   "cell_type": "code",
   "execution_count": 1,
   "metadata": {},
   "outputs": [],
   "source": [
    "import numpy as np\n",
    "import timeit\n",
    "import pandas as pd \n",
    "import plotly.express as px\n",
    "import plotly.graph_objects as go\n",
    "from magpylib.source.magnet import Box, Cylinder, Sphere\n",
    "from magpylib.source.current import Line, Circular\n",
    "from magpylib.source.moment import Dipole\n",
    "from magpylib import Collection"
   ]
  },
  {
   "cell_type": "code",
   "execution_count": 2,
   "metadata": {},
   "outputs": [
    {
     "output_type": "display_data",
     "data": {
      "text/plain": "type: Box\n position: x=15mm, y=0m, z=0m\n angle: 0Degrees\n axis: x=0.00, y=0.00, z=1.00\n magnetization: x=1mT, y=0T, z=1mT\n dimensions: a=8mm, b=4mm, c=6mm",
      "text/html": "<table border=\"1\" class=\"dataframe\">\n        <thead>\n            <tr style=\"text-align: right;\">\n            <th>type</th>\n\n<th> Box</th>\n\n            </tr>\n        </thead>\n        <tbody>\n            <tr>\n<td>position</td>\n<td><font color=\"red\"> x=15mm</font><font color=\"green\"> y=0m</font><font color=\"blue\"> z=0m</font></td>\n</tr>\n<tr>\n<td>angle</td>\n<td><font color=\"red\"> 0Degrees</font></td>\n</tr>\n<tr>\n<td>axis</td>\n<td><font color=\"red\"> x=0.00</font><font color=\"green\"> y=0.00</font><font color=\"blue\"> z=1.00</font></td>\n</tr>\n<tr>\n<td>magnetization</td>\n<td><font color=\"red\"> x=1mT</font><font color=\"green\"> y=0T</font><font color=\"blue\"> z=1mT</font></td>\n</tr>\n<tr>\n<td>dimensions</td>\n<td><font color=\"red\"> a=8mm</font><font color=\"green\"> b=4mm</font><font color=\"blue\"> c=6mm</font></td>\n</tr>\n        </tbody>\n        </table> "
     },
     "metadata": {}
    },
    {
     "output_type": "display_data",
     "data": {
      "text/plain": "type: Cylinder\n position: x=30mm, y=0m, z=0m\n angle: 0Degrees\n axis: x=0.00, y=0.00, z=1.00\n magnetization: x=0T, y=1mT, z=0T\n dimensions: d=8mm, h=5mm",
      "text/html": "<table border=\"1\" class=\"dataframe\">\n        <thead>\n            <tr style=\"text-align: right;\">\n            <th>type</th>\n\n<th> Cylinder</th>\n\n            </tr>\n        </thead>\n        <tbody>\n            <tr>\n<td>position</td>\n<td><font color=\"red\"> x=30mm</font><font color=\"green\"> y=0m</font><font color=\"blue\"> z=0m</font></td>\n</tr>\n<tr>\n<td>angle</td>\n<td><font color=\"red\"> 0Degrees</font></td>\n</tr>\n<tr>\n<td>axis</td>\n<td><font color=\"red\"> x=0.00</font><font color=\"green\"> y=0.00</font><font color=\"blue\"> z=1.00</font></td>\n</tr>\n<tr>\n<td>magnetization</td>\n<td><font color=\"red\"> x=0T</font><font color=\"green\"> y=1mT</font><font color=\"blue\"> z=0T</font></td>\n</tr>\n<tr>\n<td>dimensions</td>\n<td><font color=\"red\"> d=8mm</font><font color=\"green\"> h=5mm</font></td>\n</tr>\n        </tbody>\n        </table> "
     },
     "metadata": {}
    },
    {
     "output_type": "display_data",
     "data": {
      "text/plain": "type: Sphere\n position: x=45mm, y=0m, z=0m\n angle: 0Degrees\n axis: x=0.00, y=0.00, z=1.00\n magnetization: x=1mT, y=1mT, z=1mT\n dimensions: d=8mm",
      "text/html": "<table border=\"1\" class=\"dataframe\">\n        <thead>\n            <tr style=\"text-align: right;\">\n            <th>type</th>\n\n<th> Sphere</th>\n\n            </tr>\n        </thead>\n        <tbody>\n            <tr>\n<td>position</td>\n<td><font color=\"red\"> x=45mm</font><font color=\"green\"> y=0m</font><font color=\"blue\"> z=0m</font></td>\n</tr>\n<tr>\n<td>angle</td>\n<td><font color=\"red\"> 0Degrees</font></td>\n</tr>\n<tr>\n<td>axis</td>\n<td><font color=\"red\"> x=0.00</font><font color=\"green\"> y=0.00</font><font color=\"blue\"> z=1.00</font></td>\n</tr>\n<tr>\n<td>magnetization</td>\n<td><font color=\"red\"> x=1mT</font><font color=\"green\"> y=1mT</font><font color=\"blue\"> z=1mT</font></td>\n</tr>\n<tr>\n<td>dimensions</td>\n<td><font color=\"red\"> d=8mm</font></td>\n</tr>\n        </tbody>\n        </table> "
     },
     "metadata": {}
    },
    {
     "output_type": "display_data",
     "data": {
      "text/plain": "type: Line\n name: myline\n position: x=0m, y=0m, z=15mm\n angle: 45Degrees\n axis: x=1.00, y=0.00, z=0.00\n number of vertices: 2\n current: 10A",
      "text/html": "<table border=\"1\" class=\"dataframe\">\n        <thead>\n            <tr style=\"text-align: right;\">\n            <th>type</th>\n\n<th> Line</th>\n\n            </tr>\n        </thead>\n        <tbody>\n            <tr>\n<td>name</td>\n<td><font color=\"red\"> myline</font></td>\n</tr>\n<tr>\n<td>position</td>\n<td><font color=\"red\"> x=0m</font><font color=\"green\"> y=0m</font><font color=\"blue\"> z=15mm</font></td>\n</tr>\n<tr>\n<td>angle</td>\n<td><font color=\"red\"> 45Degrees</font></td>\n</tr>\n<tr>\n<td>axis</td>\n<td><font color=\"red\"> x=1.00</font><font color=\"green\"> y=0.00</font><font color=\"blue\"> z=0.00</font></td>\n</tr>\n<tr>\n<td>number of vertices</td>\n<td><font color=\"red\"> 2</font></td>\n</tr>\n<tr>\n<td>current</td>\n<td><font color=\"red\"> 10A</font></td>\n</tr>\n        </tbody>\n        </table> "
     },
     "metadata": {}
    },
    {
     "output_type": "display_data",
     "data": {
      "text/plain": "type: Circular\n position: x=15mm, y=0m, z=15mm\n angle: 90Degrees\n axis: x=1.00, y=0.00, z=0.00\n dimensions: d=10mm\n current: -5A",
      "text/html": "<table border=\"1\" class=\"dataframe\">\n        <thead>\n            <tr style=\"text-align: right;\">\n            <th>type</th>\n\n<th> Circular</th>\n\n            </tr>\n        </thead>\n        <tbody>\n            <tr>\n<td>position</td>\n<td><font color=\"red\"> x=15mm</font><font color=\"green\"> y=0m</font><font color=\"blue\"> z=15mm</font></td>\n</tr>\n<tr>\n<td>angle</td>\n<td><font color=\"red\"> 90Degrees</font></td>\n</tr>\n<tr>\n<td>axis</td>\n<td><font color=\"red\"> x=1.00</font><font color=\"green\"> y=0.00</font><font color=\"blue\"> z=0.00</font></td>\n</tr>\n<tr>\n<td>dimensions</td>\n<td><font color=\"red\"> d=10mm</font></td>\n</tr>\n<tr>\n<td>current</td>\n<td><font color=\"red\"> -5A</font></td>\n</tr>\n        </tbody>\n        </table> "
     },
     "metadata": {}
    },
    {
     "output_type": "display_data",
     "data": {
      "text/plain": "type: Dipole\n position: x=25mm, y=0m, z=15mm\n angle: 0Degrees\n axis: x=0.00, y=0.00, z=1.00\n moment: x=10mT, y=1mT, z=1mT",
      "text/html": "<table border=\"1\" class=\"dataframe\">\n        <thead>\n            <tr style=\"text-align: right;\">\n            <th>type</th>\n\n<th> Dipole</th>\n\n            </tr>\n        </thead>\n        <tbody>\n            <tr>\n<td>position</td>\n<td><font color=\"red\"> x=25mm</font><font color=\"green\"> y=0m</font><font color=\"blue\"> z=15mm</font></td>\n</tr>\n<tr>\n<td>angle</td>\n<td><font color=\"red\"> 0Degrees</font></td>\n</tr>\n<tr>\n<td>axis</td>\n<td><font color=\"red\"> x=0.00</font><font color=\"green\"> y=0.00</font><font color=\"blue\"> z=1.00</font></td>\n</tr>\n<tr>\n<td>moment</td>\n<td><font color=\"red\"> x=10mT</font><font color=\"green\"> y=1mT</font><font color=\"blue\"> z=1mT</font></td>\n</tr>\n        </tbody>\n        </table> "
     },
     "metadata": {}
    },
    {
     "output_type": "display_data",
     "data": {
      "text/plain": "type: Collection\n sources: ['Box', 'Cylinder', 'Sphere', 'Line', 'Circular', 'Dipole']"
     },
     "metadata": {}
    }
   ],
   "source": [
    "box = Box(mag=(1,0,1), dim=(8, 4 ,6), pos=(15,0,0))\n",
    "cylinder = Cylinder(mag=(0,1,0), dim=(8, 5), pos=(30,0,0))\n",
    "sphere = Sphere(mag=(1,1,1), dim=8, pos=(45,0,0))\n",
    "line = Line(curr=10, vertices=[(0,-4,0),(0,4,0)], axis=(1,0,0), angle= 45, pos=(0,0,15))\n",
    "line.name = 'myline'\n",
    "circular = Circular(curr=-5, dim=10,  pos=(15,0,15), axis=(1,0,0), angle=90)\n",
    "dipole = Dipole(moment=(10,1,1), pos=(25,0,15))\n",
    "coll = Collection(box,cylinder,sphere, line, circular, dipole)\n",
    "display(box,cylinder,sphere, line, circular, dipole, coll)"
   ]
  },
  {
   "cell_type": "code",
   "execution_count": null,
   "metadata": {},
   "outputs": [],
   "source": []
  }
 ]
}